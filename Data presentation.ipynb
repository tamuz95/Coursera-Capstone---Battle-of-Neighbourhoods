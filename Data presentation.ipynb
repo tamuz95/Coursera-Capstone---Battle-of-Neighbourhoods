{
 "cells": [
  {
   "cell_type": "markdown",
   "metadata": {},
   "source": [
    "<h1>Capstone Project - The Battle of Neighborhoods </h1></br>"
   ]
  },
  {
   "cell_type": "markdown",
   "metadata": {},
   "source": [
    "<h4>•\tData title: </h4></br>\n",
    "Restaurants Data\n",
    "\n",
    "<h4>Type of data: -</h4></br>\n",
    "Dataset in form of CSV file"
   ]
  },
  {
   "cell_type": "markdown",
   "metadata": {},
   "source": [
    "<h4>Description of the dataset: -</h4></br>\n",
    "\n",
    "The dataset includes the indian restaurants in the city of Milan and the pizza places in the indian city of Surat\n",
    "\n",
    "<h4>Description of the data: -</h4></br>\n",
    "\n",
    "Location coordinates obtained by foursquare api.</br>\n",
    "\n",
    "<h4>Source: -</h4></br>\n",
    "https://developer.foursquare.com/ </br>\n",
    "\n",
    "<h4>•\tData title: -</h4></br>\n",
    "Foursquare location data\n",
    "\n",
    "<h4>Type of data: -</h4></br>\n",
    "JSON\n"
   ]
  },
  {
   "cell_type": "code",
   "execution_count": null,
   "metadata": {},
   "outputs": [],
   "source": []
  }
 ],
 "metadata": {
  "kernelspec": {
   "display_name": "Python 3",
   "language": "python",
   "name": "python3"
  },
  "language_info": {
   "codemirror_mode": {
    "name": "ipython",
    "version": 3
   },
   "file_extension": ".py",
   "mimetype": "text/x-python",
   "name": "python",
   "nbconvert_exporter": "python",
   "pygments_lexer": "ipython3",
   "version": "3.7.7"
  }
 },
 "nbformat": 4,
 "nbformat_minor": 4
}
