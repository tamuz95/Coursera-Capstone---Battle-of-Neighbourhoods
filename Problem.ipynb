{
 "cells": [
  {
   "cell_type": "markdown",
   "metadata": {},
   "source": [
    "<h1> Capstone </h1> </br>"
   ]
  },
  {
   "cell_type": "markdown",
   "metadata": {},
   "source": [
    "<h2>The Battle of Neighborhoods </h2> </br>\n",
    "\n",
    "<h4>Problem Statement</h4> </br>"
   ]
  },
  {
   "cell_type": "markdown",
   "metadata": {},
   "source": [
    "\n"
   ]
  },
  {
   "cell_type": "markdown",
   "metadata": {},
   "source": [
    "Food is an element that represent a culture around the world, and when a person chooses to open a restaurant of whichever type has to check for the better location, quality of food, costs and so on. Being near offices could increase work because workers come to your place to eat during breaks, or also near universities could be a nice choice.\n",
    "That's why I decided to choose two different type of food and anlyze them in two different countries. My choices are pizza(i decided to anlyze italian restaurants separately) and indian food , and i decided to see how many pizza place there are in the indian city of Surat and how many indian restaurants are there in the city of Milan.\n",
    "This could be useful to see how much the cultures are spreaded in other countries and where could be useful to open a place, and we ca do this using the foursquare api that give us data about restaurants and we can use them to make our analizes."
   ]
  },
  {
   "cell_type": "markdown",
   "metadata": {},
   "source": [
    "#### Audience\n",
    "potential worker in the food sector that wants to open a restaurant during this difficult period"
   ]
  }
 ],
 "metadata": {
  "kernelspec": {
   "display_name": "Python 3",
   "language": "python",
   "name": "python3"
  },
  "language_info": {
   "codemirror_mode": {
    "name": "ipython",
    "version": 3
   },
   "file_extension": ".py",
   "mimetype": "text/x-python",
   "name": "python",
   "nbconvert_exporter": "python",
   "pygments_lexer": "ipython3",
   "version": "3.7.7"
  }
 },
 "nbformat": 4,
 "nbformat_minor": 4
}
